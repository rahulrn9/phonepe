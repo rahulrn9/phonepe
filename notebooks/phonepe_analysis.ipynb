{
 "cells": [
  {
   "cell_type": "markdown",
   "id": "dac00513",
   "metadata": {},
   "source": [
    "# 📊 PhonePe Data Analysis\n",
    "This notebook analyzes transaction categories, insurance data, and user device usage trends."
   ]
  },
  {
   "cell_type": "code",
   "execution_count": null,
   "id": "0c1c2864",
   "metadata": {},
   "outputs": [],
   "source": [
    "# Imports\n",
    "import pandas as pd\n",
    "import matplotlib.pyplot as plt\n",
    "import seaborn as sns\n",
    "import plotly.express as px\n",
    "sns.set(style='whitegrid')\n",
    "\n",
    "# Load datasets\n",
    "transactions_df = pd.read_csv('../data/transactions_aggregated.csv')\n",
    "insurance_df = pd.read_csv('../data/insurance_aggregated.csv')\n",
    "user_df = pd.read_csv('../data/users_aggregated.csv')"
   ]
  },
  {
   "cell_type": "markdown",
   "id": "0dd39727",
   "metadata": {},
   "source": [
    "## 💰 Transaction Categories Analysis"
   ]
  },
  {
   "cell_type": "code",
   "execution_count": null,
   "id": "fb9a3cef",
   "metadata": {},
   "outputs": [],
   "source": [
    "# Total amount by category\n",
    "category_group = transactions_df.groupby('name').sum(numeric_only=True).reset_index()\n",
    "plt.figure(figsize=(10,6))\n",
    "sns.barplot(x='amount', y='name', data=category_group.sort_values(by='amount', ascending=False))\n",
    "plt.title('Total Transaction Amount by Category')\n",
    "plt.xlabel('Total Amount (₹)')\n",
    "plt.ylabel('Category')\n",
    "plt.tight_layout()\n",
    "plt.show()"
   ]
  },
  {
   "cell_type": "markdown",
   "id": "cdfb7b27",
   "metadata": {},
   "source": [
    "## 🏥 Insurance Transactions Analysis"
   ]
  },
  {
   "cell_type": "code",
   "execution_count": null,
   "id": "a9c7a4f7",
   "metadata": {},
   "outputs": [],
   "source": [
    "# Insurance over time\n",
    "plt.figure(figsize=(10,6))\n",
    "sns.lineplot(x='from', y='amount', data=insurance_df)\n",
    "plt.title('Insurance Amount Over Time')\n",
    "plt.xlabel('Date')\n",
    "plt.ylabel('Amount (₹)')\n",
    "plt.xticks(rotation=45)\n",
    "plt.tight_layout()\n",
    "plt.show()"
   ]
  },
  {
   "cell_type": "markdown",
   "id": "6ba5d01a",
   "metadata": {},
   "source": [
    "## 📱 User Device Distribution Analysis"
   ]
  },
  {
   "cell_type": "code",
   "execution_count": null,
   "id": "86577831",
   "metadata": {},
   "outputs": [],
   "source": [
    "# Total count by device brand\n",
    "brand_group = user_df.groupby('brand')['count'].sum().reset_index()\n",
    "brand_group = brand_group.sort_values(by='count', ascending=False)\n",
    "plt.figure(figsize=(10,6))\n",
    "sns.barplot(x='count', y='brand', data=brand_group)\n",
    "plt.title('Total Users by Device Brand')\n",
    "plt.xlabel('User Count')\n",
    "plt.ylabel('Device Brand')\n",
    "plt.tight_layout()\n",
    "plt.show()"
   ]
  }
 ],
 "metadata": {},
 "nbformat": 4,
 "nbformat_minor": 5
}
